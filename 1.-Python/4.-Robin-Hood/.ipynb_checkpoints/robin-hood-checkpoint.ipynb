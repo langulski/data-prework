{
 "cells": [
  {
   "cell_type": "markdown",
   "metadata": {},
   "source": [
    "<img src=\"https://bit.ly/2VnXWr2\" width=\"100\" align=\"left\"/>"
   ]
  },
  {
   "cell_type": "markdown",
   "metadata": {},
   "source": [
    "# Robin Hood\n",
    "Robin Hood has entered a competition to win the archery contest in Sherwood. With his bow and arrows, he needs to shoot on a target and try to hit as close as possible to the center.\n",
    "\n",
    "![](images/arrows.jpg)\n",
    "\n",
    "## Context\n",
    "In this challenge, the landing position of arrows shot by archers in the competition will be represented using 2-dimensional coordinates. \n",
    "\n",
    "In the 2-dimensional space, a point can be defined by a pair of values that correspond to the horizontal coordinate (x) and the vertical coordinate (y). For example, in our case, an arrow that hits the center of the archery target will land in position (0, 0) on the coordinate axes. \n",
    "\n",
    "The space can be divided into 4 zones (quadrants): Q1, Q2, Q3, Q4. If a point is in Q1, both its x coordinate and y coordinate are positive. Any point with a null x or y coordinate is considered to not belong to any quadrant. \n",
    "\n",
    "If you want to know more about the cartesian coordinate system, you can check this [link](https://en.wikipedia.org/wiki/Cartesian_coordinate_system). \n",
    "\n",
    "## Tools\n",
    "You don't necessarily need to use all the tools. Maybe you opt to use some of them or completely different ones, they are given to help you shape the exercise. Programming exercises can be solved in many different ways.\n",
    "* Data structures: **lists, sets, tuples**\n",
    "* Conditional statements: **if-elif-else**\n",
    "* Loop: **while/for**\n",
    "* Minimum (optional sorting)\n",
    "\n",
    "## Tasks\n",
    "Robin Hood has hit the following points:"
   ]
  },
  {
   "cell_type": "code",
   "execution_count": 32,
   "metadata": {
    "scrolled": true
   },
   "outputs": [],
   "source": [
    "\n",
    "points = [(4, 5), (-0, 2), (4, 7), (1, -3), (3, -2), (4, 5), (3, 2), (5, 7), (-5, 7), (2, 2), (-4, 5), (0, -2),\n",
    "          (-4, 7), (-1, 3), (-3, 2), (-4, -5), (-3, 2), (5, 7), (5, 7), (2, 2), (9, 9), (-8, -9)]\n",
    "\n"
   ]
  },
  {
   "cell_type": "markdown",
   "metadata": {},
   "source": [
    "#### 1. Robin Hood is famous for hitting an arrow with another arrow. Find the coordinates of the points where an arrow hits another arrow."
   ]
  },
  {
   "cell_type": "code",
   "execution_count": 1,
   "metadata": {},
   "outputs": [
    {
     "name": "stdout",
     "output_type": "stream",
     "text": [
      " the arrows has landed in the same spots as before!  [(4, 5), (4, 7), (3, -2), (5, 7), (2, 2), (-4, 5), (-4, 7), (-3, 2), (-4, -5), (-8, -9)]\n"
     ]
    }
   ],
   "source": [
    "points = [(4, 5), (-0, 2), (4, 7), (1, -3), (3, -2), (4, 5), (3, 2), (5, 7), (-5, 7), (2, 2), (-4, 5), (0, -2),\n",
    "          (-4, 7), (-1, 3), (-3, 2), (-4, -5), (-3, 2), (5, 7), (5, 7), (2, 2), (9, 9), (-8, -9)]\n",
    "\n",
    "\n",
    "unique=[]\n",
    "\n",
    "count=0\n",
    "\n",
    "# go through the list \n",
    "for i  in range(len(points)):  #first variable \n",
    "    for j in  range(len(points)):\n",
    "        if points[i] == points [j]: #that will compare position 1 to two and so on until we get the same number\n",
    "            count+=1\n",
    "        \n",
    "        if (count >1): \n",
    "            if ((points[i]) not in unique):\n",
    "                unique.append(points[i]) #\n",
    "            count =0\n",
    "            \n",
    "print (f\" the arrows has landed in the same spots as before!  {unique}\")\n",
    "        "
   ]
  },
  {
   "cell_type": "markdown",
   "metadata": {},
   "source": [
    "#### 2. Calculate how many arrows have fallen in each quadrant. \n",
    "**Note**: the arrows that fall in the axis (x=0 or y=0) don't belong to any quadrant."
   ]
  },
  {
   "cell_type": "code",
   "execution_count": null,
   "metadata": {},
   "outputs": [],
   "source": [
    "#2. Calculate how many arrows have fallen in each quadrant.\n",
    "#Note: the arrows that fall in the axis (x=0 or y=0) don't belong to any quadrant.\n",
    "#Q1= x=+ and y=+\n",
    "#Q2 = X=- and y =+\n",
    "#Q3 = x=- and y=-\n",
    "#Q4 =x=+ and y= -\n",
    "points = [(4, 5), (-0, 2), (4, 7), (1, -3), (3, -2), (4, 5), (3, 2), (5, 7), (-5, 7), (2, 2), (-4, 5), (0, -2),\n",
    "          (-4, 7), (-1, 3), (-3, 2), (-4, -5), (-3, 2), (5, 7), (5, 7), (2, 2), (9, 9), (-8, -9)]\n",
    "Q1 = []\n",
    "Q2 = []\n",
    "Q3 = []\n",
    "Q4 = []\n",
    "count = 0\n",
    "while count < len(points):\n",
    "    for i,j in points [count:count+1]: # adding the variable to the variable creates a loop that adds up itself and we can \n",
    "        #have the total of arrows for the round.\n",
    "    \n",
    "        if i > 0 and j > 0: \n",
    "            Q1.append(points[count])\n",
    "        elif i < 0 and j > 0:\n",
    "            Q2.append(points[count])\n",
    "        elif i < 0 and j < 0:\n",
    "            Q3.append(points[count])\n",
    "        elif i > 0 and j < 0:\n",
    "            Q4.append(points[count])\n",
    "    count += 1\n",
    "\n",
    "print(f\"There is a total of \" + str(len(Q1)) + \" arrows in quadrant 1, \" + str(len(Q2)) + \" arrows in quadrant 2, \" + str(len(Q3)) + \" arrows in quadrant 3 and \" + str(len(Q4)) + \" arrows in quadrant 4.\")\n"
   ]
  },
  {
   "cell_type": "markdown",
   "metadata": {},
   "source": [
    "#### 3. Find the point closest to the center. Calculate its distance to the center. \n",
    "Take into account that there might be more than one point at the minimum distance to the center.\n",
    "\n",
    "**Hint**: Use the Euclidean distance. You can find more information about it [here](https://en.wikipedia.org/wiki/Euclidean_distance).  \n",
    "**Hint**: Defining a function that calculates the distance to the center can help."
   ]
  },
  {
   "cell_type": "code",
   "execution_count": 3,
   "metadata": {},
   "outputs": [
    {
     "name": "stdout",
     "output_type": "stream",
     "text": [
      "[6.4, 2.0, 8.06, 3.16, 3.61, 6.4, 3.61, 8.6, 8.6, 2.83, 6.4, 2.0, 8.06, 3.16, 3.61, 6.4, 3.61, 8.6, 8.6, 2.83, 12.73, 12.04]\n",
      "\u001b[1;31m the closest point to the BULLSEYE is/are [(0, 2), (0, -2)].\n",
      "\n",
      "\u001b[1;35m the closest distance is 2.0\n",
      "\n"
     ]
    }
   ],
   "source": [
    "points = [(4, 5), (-0, 2), (4, 7), (1, -3), (3, -2), (4, 5), (3, 2), (5, 7), (-5, 7), (2, 2), (-4, 5), (0, -2),\n",
    "          (-4, 7), (-1, 3), (-3, 2), (-4, -5), (-3, 2), (5, 7), (5, 7), (2, 2), (9, 9), (-8, -9)]\n",
    "\n",
    "\n",
    "import math            \n",
    "def snaps(arrow):\n",
    "    i = arrow[0]\n",
    "    j= arrow[1]\n",
    "    dist = math.sqrt(i**2 + j**2)\n",
    "    return dist\n",
    "#list of distances\n",
    "dists= []\n",
    "#\n",
    "#\n",
    "#\n",
    "for x in points:\n",
    "    dists.append(round(snaps(x),2))\n",
    "print(dists)\n",
    "#\n",
    "#\n",
    "#\n",
    "#\n",
    "count=0\n",
    "snapshot=[]\n",
    "for x in dists:\n",
    "    if x ==min(dists):\n",
    "        snapshot.append(points[count])\n",
    "    count+=1\n",
    "#    \n",
    "#    \n",
    "#    \n",
    "print(f\"\\033[1;31m the closest point to the BULLSEYE is/are {snapshot}.\\n\")\n",
    "\n",
    "\n",
    "print(f\"\\033[1;35m the closest distance is {min(dists)}\\n\")\n"
   ]
  },
  {
   "cell_type": "markdown",
   "metadata": {},
   "source": [
    "#### 4. If the archery target has a radius of 9, calculate the number of arrows that won't hit the target. \n",
    "**Hint**: Use the function created in step 3. "
   ]
  },
  {
   "cell_type": "code",
   "execution_count": 4,
   "metadata": {},
   "outputs": [
    {
     "data": {
      "text/plain": [
       "2"
      ]
     },
     "execution_count": 4,
     "metadata": {},
     "output_type": "execute_result"
    }
   ],
   "source": [
    "radius =9\n",
    "\n",
    "sum (1 for i in dists if i> radius)"
   ]
  }
 ],
 "metadata": {
  "kernelspec": {
   "display_name": "Python 3",
   "language": "python",
   "name": "python3"
  },
  "language_info": {
   "codemirror_mode": {
    "name": "ipython",
    "version": 3
   },
   "file_extension": ".py",
   "mimetype": "text/x-python",
   "name": "python",
   "nbconvert_exporter": "python",
   "pygments_lexer": "ipython3",
   "version": "3.8.5"
  }
 },
 "nbformat": 4,
 "nbformat_minor": 2
}
