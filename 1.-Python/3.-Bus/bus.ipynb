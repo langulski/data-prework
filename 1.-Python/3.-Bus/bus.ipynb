{
 "cells": [
  {
   "cell_type": "markdown",
   "metadata": {},
   "source": [
    "<img src=\"https://bit.ly/2VnXWr2\" width=\"100\" align=\"left\">"
   ]
  },
  {
   "cell_type": "markdown",
   "metadata": {},
   "source": [
    "# Bus\n",
    "\n",
    "This bus has a passenger entry and exit control system to monitor the number of occupants it carries and thus detect when there are too many.\n",
    "\n",
    "At each stop, the entry and exit of passengers is represented by a tuple consisting of two integer numbers.\n",
    "```\n",
    "bus_stop = (in, out)\n",
    "```\n",
    "The succession of stops is represented by a list of these tuples.\n",
    "```\n",
    "stops = [(in1, out1), (in2, out2), (in3, out3), (in4, out4)]\n",
    "```\n",
    "\n",
    "## Tools\n",
    "You don't necessarily need to use all the tools. Maybe you opt to use some of them or completely different ones, they are given to help you shape the exercise. Programming exercises can be solved in many different ways.\n",
    "* Data structures: **lists, tuples**\n",
    "* Loop: **while/for loops**\n",
    "* Functions: **min, max, len**\n",
    "\n",
    "## Tasks"
   ]
  },
  {
   "cell_type": "code",
   "execution_count": null,
   "metadata": {},
   "outputs": [],
   "source": [
    "# Variables\n",
    "stops = [(10, 0), (4, 1), (3, 5), (3, 4), (5, 1), (1, 5), (5, 8), (4, 6), (2, 3)]"
   ]
  },
  {
   "cell_type": "markdown",
   "metadata": {},
   "source": [
    "#### 1. Calculate the number of stops."
   ]
  },
  {
   "cell_type": "code",
   "execution_count": 2,
   "metadata": {},
   "outputs": [
    {
     "name": "stdout",
     "output_type": "stream",
     "text": [
      "9\n"
     ]
    }
   ],
   "source": [
    "stops = [(10, 0), (4, 1), (3, 5), (3, 4), (5, 1), (1, 5), (5, 8), (4, 6), (2, 3)]\n",
    "\n",
    "number_stops = len(stops)\n",
    "\n",
    "\n",
    "print(number_stops)"
   ]
  },
  {
   "cell_type": "markdown",
   "metadata": {},
   "source": [
    "#### 2. Assign to a variable a list whose elements are the number of passengers at each stop (in-out).\n",
    "Each item depends on the previous item in the list + in - out."
   ]
  },
  {
   "cell_type": "code",
   "execution_count": 65,
   "metadata": {},
   "outputs": [
    {
     "name": "stdout",
     "output_type": "stream",
     "text": [
      " bus has stopped 0 times, 10 has entered the bus 0 has left the bus  and the bus has 10 people inside\n",
      " bus has stopped 1 times, 4 has entered the bus 1 has left the bus  and the bus has 13 people inside\n",
      " bus has stopped 2 times, 3 has entered the bus 5 has left the bus  and the bus has 11 people inside\n",
      " bus has stopped 3 times, 3 has entered the bus 4 has left the bus  and the bus has 10 people inside\n",
      " bus has stopped 4 times, 5 has entered the bus 1 has left the bus  and the bus has 14 people inside\n",
      " bus has stopped 5 times, 1 has entered the bus 5 has left the bus  and the bus has 10 people inside\n",
      " bus has stopped 6 times, 5 has entered the bus 8 has left the bus  and the bus has 7 people inside\n",
      " bus has stopped 7 times, 4 has entered the bus 6 has left the bus  and the bus has 5 people inside\n",
      " bus has stopped 8 times, 2 has entered the bus 3 has left the bus  and the bus has 4 people inside\n",
      "max capacity of the is 14\n"
     ]
    }
   ],
   "source": [
    "stops = [(10, 0), (4, 1), (3, 5), (3, 4), (5, 1), (1, 5), (5, 8), (4, 6), (2, 3)]\n",
    "\n",
    "number_stops = len(stops)\n",
    "\n",
    "full_bus = False\n",
    "\n",
    "bus_capacity = 0\n",
    "x= []\n",
    "i=0\n",
    "while i < number_stops:\n",
    "    for stop in stops:\n",
    "        lbus = list(stop)\n",
    "        in_1 =  lbus[0]\n",
    "        out_1 = lbus [1]\n",
    "        bus_capacity += stop[0] - stop[1]\n",
    "        print(f\" bus has stopped {i} times, {in_1} has entered the bus {out_1} has left the bus  and the bus has {bus_capacity} people inside\")\n",
    "        \n",
    "        x.append(bus_capacity)\n",
    "        i+=1\n",
    "        \n",
    "print(f\"max capacity of the is {max(x)}\")\n",
    "        "
   ]
  },
  {
   "cell_type": "markdown",
   "metadata": {},
   "source": [
    "#### 3. Find the maximum occupation of the bus."
   ]
  },
  {
   "cell_type": "code",
   "execution_count": 67,
   "metadata": {},
   "outputs": [
    {
     "name": "stdout",
     "output_type": "stream",
     "text": [
      "max capacity of the is 14\n"
     ]
    }
   ],
   "source": [
    "print(f\"max capacity of the is {max(x)}\")"
   ]
  },
  {
   "cell_type": "markdown",
   "metadata": {},
   "source": [
    "#### 4. Calculate the average occupation. And the standard deviation."
   ]
  },
  {
   "cell_type": "code",
   "execution_count": 69,
   "metadata": {},
   "outputs": [],
   "source": [
    "avg=sum(x)/len(stops)"
   ]
  },
  {
   "cell_type": "code",
   "execution_count": 71,
   "metadata": {},
   "outputs": [
    {
     "data": {
      "text/plain": [
       "9.333333333333334"
      ]
     },
     "execution_count": 71,
     "metadata": {},
     "output_type": "execute_result"
    }
   ],
   "source": [
    "avg"
   ]
  }
 ],
 "metadata": {
  "kernelspec": {
   "display_name": "Python 3",
   "language": "python",
   "name": "python3"
  },
  "language_info": {
   "codemirror_mode": {
    "name": "ipython",
    "version": 3
   },
   "file_extension": ".py",
   "mimetype": "text/x-python",
   "name": "python",
   "nbconvert_exporter": "python",
   "pygments_lexer": "ipython3",
   "version": "3.8.5"
  }
 },
 "nbformat": 4,
 "nbformat_minor": 2
}
