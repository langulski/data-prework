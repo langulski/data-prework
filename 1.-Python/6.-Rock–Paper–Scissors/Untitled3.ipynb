{
 "cells": [
  {
   "cell_type": "code",
   "execution_count": null,
   "metadata": {},
   "outputs": [],
   "source": [
    "n_rounds=0\n",
    "bot_score=0\n",
    "user_score=0\n",
    "\n",
    "\n",
    "while True:\n",
    "\n",
    "    import random\n",
    "    user=input(\"please choose your (rock, paper, scissors):\")\n",
    "    action= [\"rock\", \"paper\", \"scissors\"]\n",
    "    \n",
    "    bot_action=random.choice(action)\n",
    "    print(f\"\\nYou chose {user}, vs chose {bot_action}. round number {n_rounds}\\n\")\n",
    "\n",
    "    if user == bot_action:\n",
    "        print(f\"It's a tie! {action}.\")\n",
    "        \n",
    "    elif user == \"rock\":\n",
    "        if bot_action == \"scissors\":\n",
    "            print(\"Rock smashes scissors! You win!\")\n",
    "            user_score+=1\n",
    "            \n",
    "        else:\n",
    "            print(\"Your rock was wrapped in paper You lose.\")\n",
    "            bot_score+=1\n",
    "            \n",
    "    elif user == \"paper\":\n",
    "        if bot_action == \"rock\":\n",
    "            print(\"You wrapped the rock! You win!\")\n",
    "            user_score+=1\n",
    "            \n",
    "        else:\n",
    "            print(\"Scissors cuts paper! You lose.\")\n",
    "            bot_score+=1\n",
    "    elif user == \"scissors\":\n",
    "        if bot_action == \"paper\":\n",
    "            print(\"Scissors cuts paper! You win!\")\n",
    "            user_score+=1\n",
    "            \n",
    "        else:\n",
    "            print(\"Rock smashes scissors! You lose.\")\n",
    "            bot_score+=1\n",
    "    n_rounds+=1\n",
    "    print(f\"the player has won {user_score}\")\n",
    "    print(f\"the bot has won {bot_score}\")\n",
    "\n",
    "    if user_score==3:\n",
    "            break\n",
    "    elif bot_score==3:\n",
    "        break\n"
   ]
  }
 ],
 "metadata": {
  "kernelspec": {
   "display_name": "Python 3",
   "language": "python",
   "name": "python3"
  },
  "language_info": {
   "codemirror_mode": {
    "name": "ipython",
    "version": 3
   },
   "file_extension": ".py",
   "mimetype": "text/x-python",
   "name": "python",
   "nbconvert_exporter": "python",
   "pygments_lexer": "ipython3",
   "version": "3.8.5"
  }
 },
 "nbformat": 4,
 "nbformat_minor": 4
}
