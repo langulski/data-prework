{
 "cells": [
  {
   "cell_type": "code",
   "execution_count": null,
   "metadata": {},
   "outputs": [],
   "source": [
    "import random\n",
    "from enum import IntEnum\n",
    "\n",
    "class Action(IntEnum):\n",
    "    Rock = 0\n",
    "    Paper = 1\n",
    "    Scissors = 2\n",
    "\n",
    "\n",
    "def get_computer_selection():\n",
    "    selection = random.randint(0, len(Action) - 1)\n",
    "    action = Action(selection)\n",
    "    return action\n",
    "\n",
    "def get_user_selection():\n",
    "    user_input = input(\"Enter a choice (rock[0], paper[1], scissors[2]): \")\n",
    "    selection = int(user_input)\n",
    "    action = Action(selection)\n",
    "    return action\n",
    "while True:\n",
    "    try:\n",
    "        user_action = get_user_selection()\n",
    "    except ValueError as e:\n",
    "        range_str = f\"[0, {len(Action) - 1}]\"\n",
    "        print(f\"Invalid selection. Enter a value in range {range_str}\")\n",
    "        continue\n",
    "\n",
    "    computer_action = get_computer_selection()\n",
    "    determine_winner=(user_action, computer_action)\n",
    "    \n",
    "    def determine_winner(user_action, computer_action):\n",
    "    victories = {\n",
    "        Action.Rock: [Action.Scissors],  # Rock beats scissors\n",
    "        Action.Paper: [Action.Rock],  # Paper beats rock\n",
    "        Action.Scissors: [Action.Paper]  # Scissors beats paper\n",
    "    }\n",
    "\n",
    "    defeats = victories[user_action]\n",
    "    if user_action == computer_action:\n",
    "        print(f\"Both players selected {user_action.name}. It's a tie!\")\n",
    "    elif computer_action in defeats:\n",
    "        print(f\"{user_action.name} beats {computer_action.name}! You win!\")\n",
    "    else:\n",
    "        print(f\"{computer_action.name} beats {user_action.name}! You lose.\")\n",
    "\n",
    "    play_again = input(\"Play again? (y/n): \")\n",
    "    if play_again.lower() != \"y\":\n",
    "        break"
   ]
  },
  {
   "cell_type": "code",
   "execution_count": null,
   "metadata": {},
   "outputs": [],
   "source": []
  },
  {
   "cell_type": "code",
   "execution_count": null,
   "metadata": {},
   "outputs": [],
   "source": []
  },
  {
   "cell_type": "code",
   "execution_count": null,
   "metadata": {},
   "outputs": [],
   "source": []
  },
  {
   "cell_type": "code",
   "execution_count": null,
   "metadata": {},
   "outputs": [],
   "source": []
  },
  {
   "cell_type": "code",
   "execution_count": null,
   "metadata": {},
   "outputs": [],
   "source": []
  },
  {
   "cell_type": "code",
   "execution_count": null,
   "metadata": {},
   "outputs": [],
   "source": []
  },
  {
   "cell_type": "code",
   "execution_count": null,
   "metadata": {},
   "outputs": [],
   "source": []
  },
  {
   "cell_type": "code",
   "execution_count": null,
   "metadata": {},
   "outputs": [],
   "source": []
  },
  {
   "cell_type": "code",
   "execution_count": null,
   "metadata": {},
   "outputs": [],
   "source": []
  }
 ],
 "metadata": {
  "kernelspec": {
   "display_name": "Python 3",
   "language": "python",
   "name": "python3"
  },
  "language_info": {
   "codemirror_mode": {
    "name": "ipython",
    "version": 3
   },
   "file_extension": ".py",
   "mimetype": "text/x-python",
   "name": "python",
   "nbconvert_exporter": "python",
   "pygments_lexer": "ipython3",
   "version": "3.8.5"
  }
 },
 "nbformat": 4,
 "nbformat_minor": 4
}
