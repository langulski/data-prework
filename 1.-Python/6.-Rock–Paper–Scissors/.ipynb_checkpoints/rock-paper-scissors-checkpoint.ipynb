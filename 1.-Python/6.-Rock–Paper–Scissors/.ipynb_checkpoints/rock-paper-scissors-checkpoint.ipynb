{
 "cells": [
  {
   "cell_type": "markdown",
   "metadata": {},
   "source": [
    "<img src=\"https://bit.ly/2VnXWr2\" width=\"100\" align=\"left\">"
   ]
  },
  {
   "cell_type": "markdown",
   "metadata": {},
   "source": [
    "# Rock, Paper & Scissors\n",
    "\n",
    "Let's play the famous game against our computer. You can check the rules [here](https://en.wikipedia.org/wiki/Rock%E2%80%93paper%E2%80%93scissors). \n",
    "\n",
    "## Task\n",
    "Create a program that imitates the playability of the well known game of rock, paper, scissors. Follow the guidelines provided.\n",
    "\n",
    "## Tools\n",
    "1. Loop: **for/while**\n",
    "2. Functions: **input(), print()...**\n",
    "3. Conditional statements: **if, elif, else**\n",
    "4. Definition of functions. Modular programming\n",
    "5. Import modules\n",
    "\n",
    "**To solve this challenge, the use of functions is recommended.**\n",
    "\n",
    "#### 1. Import the choice function of the random module."
   ]
  },
  {
   "cell_type": "code",
   "execution_count": null,
   "metadata": {},
   "outputs": [],
   "source": [
    "import random"
   ]
  },
  {
   "cell_type": "markdown",
   "metadata": {},
   "source": [
    "#### 2. Create a list that includes the 3 possible gesture options of the game: 'rock', 'paper' or 'scissors'. Store the list in a variable called `gestures`."
   ]
  },
  {
   "cell_type": "code",
   "execution_count": null,
   "metadata": {},
   "outputs": [],
   "source": [
    "gestures=(\"rock\",\"paper\",\"scissors\")"
   ]
  },
  {
   "cell_type": "markdown",
   "metadata": {},
   "source": [
    "#### 3. Create a variable called `n_rounds` to store the maximum number of rounds to play in a game. \n",
    "Remember that the number of rounds must be odd: 1, 3, 5, ..."
   ]
  },
  {
   "cell_type": "code",
   "execution_count": null,
   "metadata": {},
   "outputs": [],
   "source": [
    "n_rounds=0"
   ]
  },
  {
   "cell_type": "markdown",
   "metadata": {},
   "source": [
    "#### 4. Create a variable called `rounds_to_win` to store the number of rounds that a player must win to win the game.\n",
    "**Hint**: the value stored in `rounds_to_win` depends on the value of `n_rounds`. "
   ]
  },
  {
   "cell_type": "code",
   "execution_count": null,
   "metadata": {},
   "outputs": [],
   "source": []
  },
  {
   "cell_type": "markdown",
   "metadata": {},
   "source": [
    "#### 5. Create two variables to store the number of rounds that the computer and the player have won. Call these variables `cpu_score` and `player_score`."
   ]
  },
  {
   "cell_type": "code",
   "execution_count": null,
   "metadata": {},
   "outputs": [],
   "source": []
  },
  {
   "cell_type": "markdown",
   "metadata": {},
   "source": [
    "#### 6. Define a function that randomly returns one of the 3 gesture options.\n",
    "You will use this function to simulate the gesture choice of the computer. "
   ]
  },
  {
   "cell_type": "code",
   "execution_count": null,
   "metadata": {},
   "outputs": [],
   "source": [
    "bot_action=random.choice(action)"
   ]
  },
  {
   "cell_type": "markdown",
   "metadata": {},
   "source": [
    "#### 7. Define a function that asks the player which is the gesture he or she wants to show: 'rock', 'paper' or 'scissors'.\n",
    "The player should only be allowed to choose one of the 3 gesture options. If the player's choice is not rock, paper or scissors, keep asking until it is."
   ]
  },
  {
   "cell_type": "code",
   "execution_count": null,
   "metadata": {},
   "outputs": [],
   "source": [
    " user=input(\"please choose your (rock, paper, scissors):\")\n",
    "    action= [\"rock\", \"paper\", \"scissors\"]"
   ]
  },
  {
   "cell_type": "markdown",
   "metadata": {},
   "source": [
    "#### 8. Define a function that checks who won a round. \n",
    "The function should return 0 if there is a tie, 1 if the computer wins and 2 if the player wins."
   ]
  },
  {
   "cell_type": "code",
   "execution_count": null,
   "metadata": {},
   "outputs": [],
   "source": [
    "# logical tests made to return either the computer wins or user wins or its a tie."
   ]
  },
  {
   "cell_type": "markdown",
   "metadata": {},
   "source": [
    "#### 9. Define a function that prints the choice of the computer, the choice of the player and a message that announces who won the current round. \n",
    "You should also use this function to update the variables that count the number of rounds that the computer and the player have won. The score of the winner increases by one point. If there is a tie, the score does not increase."
   ]
  },
  {
   "cell_type": "code",
   "execution_count": 5,
   "metadata": {},
   "outputs": [
    {
     "name": "stdout",
     "output_type": "stream",
     "text": [
      "please choose your (rock, paper, scissors):2\n",
      "\n",
      "You chose 2, vs chose paper.\n",
      "\n"
     ]
    }
   ],
   "source": [
    "\n",
    "n_rounds=0\n",
    "bot_score=0\n",
    "user_score=0\n",
    "\n",
    "\n",
    "while True:\n",
    "\n",
    "    import random\n",
    "    user=input(\"please choose your (rock, paper, scissors):\")\n",
    "    action= [\"rock\", \"paper\", \"scissors\"]\n",
    "    \n",
    "    bot_action=random.choice(action)\n",
    "    print(f\"\\nYou chose {user}, vs chose {bot_action}. round number {n_rounds}\\n\")\n",
    "\n",
    "    if user == bot_action:\n",
    "        print(f\"It's a tie! {action}.\")\n",
    "        \n",
    "    elif user == \"rock\":\n",
    "        if bot_action == \"scissors\":\n",
    "            print(\"Rock smashes scissors! You win!\")\n",
    "            user_score+=1\n",
    "            \n",
    "        else:\n",
    "            print(\"Your rock was wrapped in paper You lose.\")\n",
    "            bot_score+=1\n",
    "            \n",
    "    elif user == \"paper\":\n",
    "        if bot_action == \"rock\":\n",
    "            print(\"You wrapped the rock! You win!\")\n",
    "            user_score+=1\n",
    "            \n",
    "        else:\n",
    "            print(\"Scissors cuts paper! You lose.\")\n",
    "            bot_score+=1\n",
    "    elif user == \"scissors\":\n",
    "        if bot_action == \"paper\":\n",
    "            print(\"Scissors cuts paper! You win!\")\n",
    "            user_score+=1\n",
    "            \n",
    "        else:\n",
    "            print(\"Rock smashes scissors! You lose.\")\n",
    "            bot_score+=1\n",
    "    n_rounds+=1\n",
    "    print(f\"the player has won {user_score}\")\n",
    "    print(f\"the bot has won {bot_score}\")\n",
    "\n",
    "    if user_score==3:\n",
    "            break\n",
    "    elif bot_score==3:\n",
    "        break\n"
   ]
  },
  {
   "cell_type": "markdown",
   "metadata": {},
   "source": [
    "#### 10. Now it's time to code the execution of the game using the functions and variables you defined above. \n",
    "\n",
    "First, create a loop structure that repeats while no player reaches the minimum score necessary to win and the number of rounds is less than the maximum number of rounds to play in a game.  \n",
    "\n",
    "Inside the loop, use the functions and variables above to create the execution of a round: ask for the player's choice, generate the random choice of the computer, show the round results, update the scores, etc. "
   ]
  },
  {
   "cell_type": "code",
   "execution_count": 7,
   "metadata": {},
   "outputs": [
    {
     "name": "stdout",
     "output_type": "stream",
     "text": [
      "please choose your (rock, paper, scissors):rock\n",
      "\n",
      "You chose rock, vs chose rock. round number 0\n",
      "\n",
      "It's a tie! ['rock', 'paper', 'scissors'].\n",
      "the player has won 0\n",
      "the bot has won 0\n",
      "please choose your (rock, paper, scissors):rock\n",
      "\n",
      "You chose rock, vs chose paper. round number 1\n",
      "\n",
      "Your rock was wrapped in paper You lose.\n",
      "the player has won 0\n",
      "the bot has won 1\n",
      "please choose your (rock, paper, scissors):rock\n",
      "\n",
      "You chose rock, vs chose rock. round number 2\n",
      "\n",
      "It's a tie! ['rock', 'paper', 'scissors'].\n",
      "the player has won 0\n",
      "the bot has won 1\n",
      "please choose your (rock, paper, scissors):rock\n",
      "\n",
      "You chose rock, vs chose paper. round number 3\n",
      "\n",
      "Your rock was wrapped in paper You lose.\n",
      "the player has won 0\n",
      "the bot has won 2\n",
      "please choose your (rock, paper, scissors):rock\n",
      "\n",
      "You chose rock, vs chose rock. round number 4\n",
      "\n",
      "It's a tie! ['rock', 'paper', 'scissors'].\n",
      "the player has won 0\n",
      "the bot has won 2\n",
      "please choose your (rock, paper, scissors):rock\n",
      "\n",
      "You chose rock, vs chose scissors. round number 5\n",
      "\n",
      "Rock smashes scissors! You win!\n",
      "the player has won 1\n",
      "the bot has won 2\n",
      "please choose your (rock, paper, scissors):rock\n",
      "\n",
      "You chose rock, vs chose paper. round number 6\n",
      "\n",
      "Your rock was wrapped in paper You lose.\n",
      "the player has won 1\n",
      "the bot has won 3\n"
     ]
    }
   ],
   "source": [
    "#rock paper scissors\n",
    "#need to import library random\n",
    "# under construction\n",
    "\n",
    "#Create a variable called rounds_to_win to store the number of rounds that a player must win to win the game.\n",
    "# Create two variables to store the number of \n",
    "#rounds that the computer and the player have won. Call these variables cpu_score and player_score\n",
    "\n",
    "#Define a function that checks who won a round.\n",
    "#The function should return 0 if there is a tie, 1 if the computer wins and 2 if the player wins.\n",
    "\n",
    "#I cound define as:\n",
    "#rock=0\n",
    "#paper=1\n",
    "#scissors=2, since it does not affect  how the code works I'll keep this way\n",
    "\n",
    "n_rounds=0\n",
    "bot_score=0\n",
    "user_score=0\n",
    "\n",
    "while True:\n",
    "\n",
    "    import random\n",
    "    user=input(\"please choose your (rock, paper, scissors):\")\n",
    "    action= [\"rock\", \"paper\", \"scissors\"]\n",
    "    \n",
    "    bot_action=random.choice(action)\n",
    "    print(f\"\\nYou chose {user}, vs chose {bot_action}. round number {n_rounds}\\n\")\n",
    "\n",
    "    if user == bot_action:\n",
    "        print(f\"It's a tie! {action}.\")\n",
    "        \n",
    "    elif user == \"rock\":\n",
    "        if bot_action == \"scissors\":\n",
    "            print(\"Rock smashes scissors! You win!\")\n",
    "            user_score+=1\n",
    "            \n",
    "        else:\n",
    "            print(\"Your rock was wrapped in paper You lose.\")\n",
    "            bot_score+=1\n",
    "            \n",
    "    elif user == \"paper\":\n",
    "        if bot_action == \"rock\":\n",
    "            print(\"You wrapped the rock! You win!\")\n",
    "            user_score+=1\n",
    "            \n",
    "        else:\n",
    "            print(\"Scissors cuts paper! You lose.\")\n",
    "            bot_score+=1\n",
    "    elif user == \"scissors\":\n",
    "        if bot_action == \"paper\":\n",
    "            print(\"Scissors cuts paper! You win!\")\n",
    "            user_score+=1\n",
    "            \n",
    "        else:\n",
    "            print(\"Rock smashes scissors! You lose.\")\n",
    "            bot_score+=1\n",
    "    n_rounds+=1\n",
    "    print(f\"the player has won {user_score}\")\n",
    "    print(f\"the bot has won {bot_score}\")\n",
    "\n",
    "    if user_score==3:\n",
    "            break\n",
    "    elif bot_score==3:\n",
    "        break\n"
   ]
  },
  {
   "cell_type": "markdown",
   "metadata": {},
   "source": [
    "#### 11. Print the winner of the game based on who won more rounds.\n",
    "Remember that the game might be tied. "
   ]
  },
  {
   "cell_type": "markdown",
   "metadata": {},
   "source": [
    "# Bonus: Rock, Paper, Scissors, Lizard & Spock\n",
    "![](images/rpsls.jpg)\n",
    "\n",
    "In this challenge, you need to improve the previous game by adding two new options. To know more about the rules of the improved version of rock, paper, scissors, check this [link](http://www.samkass.com/theories/RPSSL.html). \n",
    "\n",
    "In addition, you will also need to improve how the game interacts with the player: the number of rounds to play, which must be an odd number, will be requested to the user until a valid number is entered. Define a new function to make that request.\n",
    "\n",
    "**Hint**: Try to reuse the code that you already coded in the previous challenge. If your code is efficient, this bonus will only consist of simple modifications to the original game."
   ]
  },
  {
   "cell_type": "code",
   "execution_count": null,
   "metadata": {},
   "outputs": [],
   "source": []
  }
 ],
 "metadata": {
  "kernelspec": {
   "display_name": "Python 3",
   "language": "python",
   "name": "python3"
  },
  "language_info": {
   "codemirror_mode": {
    "name": "ipython",
    "version": 3
   },
   "file_extension": ".py",
   "mimetype": "text/x-python",
   "name": "python",
   "nbconvert_exporter": "python",
   "pygments_lexer": "ipython3",
   "version": "3.8.5"
  }
 },
 "nbformat": 4,
 "nbformat_minor": 2
}
